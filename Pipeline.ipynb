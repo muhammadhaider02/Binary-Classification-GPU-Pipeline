{
  "cells": [
    {
      "cell_type": "markdown",
      "metadata": {
        "id": "_dxp4MiAYtF8"
      },
      "source": [
        "**Importing Libraries**"
      ]
    },
    {
      "cell_type": "code",
      "execution_count": null,
      "metadata": {
        "id": "niUELCJ9YrPA"
      },
      "outputs": [],
      "source": [
        "import pandas as pd\n",
        "import matplotlib.pyplot as plt\n",
        "import seaborn as sns\n",
        "import lightgbm as lgb\n",
        "from imblearn.over_sampling import SMOTE\n",
        "from sklearn.preprocessing import LabelEncoder, StandardScaler\n",
        "from sklearn.ensemble import BaggingClassifier\n",
        "from sklearn.model_selection import train_test_split\n",
        "from sklearn.feature_selection import mutual_info_classif\n",
        "from sklearn.metrics import accuracy_score, confusion_matrix, classification_report, roc_auc_score\n",
        "import cudf\n",
        "import cupy as cp\n",
        "from cuml.preprocessing import StandardScaler as cuStandardScaler\n",
        "from cuml.ensemble import RandomForestClassifier\n",
        "from cuml.metrics import accuracy_score as cu_accuracy_score, roc_auc_score as cu_roc_auc_score\n",
        "import time\n",
        "import warnings\n",
        "warnings.filterwarnings('ignore')"
      ]
    },
    {
      "cell_type": "code",
      "execution_count": null,
      "metadata": {
        "colab": {
          "base_uri": "https://localhost:8080/",
          "height": 206
        },
        "id": "SDXirW8vYvwt",
        "outputId": "da34c7f5-818f-4a00-bda5-0b46541d4d4e"
      },
      "outputs": [
        {
          "data": {
            "application/vnd.google.colaboratory.intrinsic+json": {
              "summary": "{\n  \"name\": \"data\",\n  \"rows\": 41000,\n  \"fields\": [\n    {\n      \"column\": \"feature_1\",\n      \"properties\": {\n        \"dtype\": \"number\",\n        \"std\": 4.874078604936241,\n        \"min\": 7.670000076293945,\n        \"max\": 52.400001525878906,\n        \"num_unique_values\": 2793,\n        \"samples\": [\n          15.010000228881836,\n          23.59000015258789,\n          14.949999809265137\n        ],\n        \"semantic_type\": \"\",\n        \"description\": \"\"\n      }\n    },\n    {\n      \"column\": \"feature_2\",\n      \"properties\": {\n        \"dtype\": \"number\",\n        \"std\": 28.230459115962848,\n        \"min\": 0.0,\n        \"max\": 99.0,\n        \"num_unique_values\": 101,\n        \"samples\": [\n          61.0,\n          97.0,\n          8.0\n        ],\n        \"semantic_type\": \"\",\n        \"description\": \"\"\n      }\n    },\n    {\n      \"column\": \"feature_3\",\n      \"properties\": {\n        \"dtype\": \"category\",\n        \"num_unique_values\": 3,\n        \"samples\": [\n          \"B\",\n          \"C\",\n          \"A\"\n        ],\n        \"semantic_type\": \"\",\n        \"description\": \"\"\n      }\n    },\n    {\n      \"column\": \"feature_4\",\n      \"properties\": {\n        \"dtype\": \"number\",\n        \"std\": 986.3746912909124,\n        \"min\": -155.62,\n        \"max\": 17643.4,\n        \"num_unique_values\": 32103,\n        \"samples\": [\n          1210.48,\n          1093.54,\n          849.62\n        ],\n        \"semantic_type\": \"\",\n        \"description\": \"\"\n      }\n    },\n    {\n      \"column\": \"feature_5\",\n      \"properties\": {\n        \"dtype\": \"category\",\n        \"num_unique_values\": 2,\n        \"samples\": [\n          \"Yes\",\n          \"No\"\n        ],\n        \"semantic_type\": \"\",\n        \"description\": \"\"\n      }\n    },\n    {\n      \"column\": \"feature_6\",\n      \"properties\": {\n        \"dtype\": \"number\",\n        \"std\": 2,\n        \"min\": 1,\n        \"max\": 9,\n        \"num_unique_values\": 9,\n        \"samples\": [\n          9,\n          4\n        ],\n        \"semantic_type\": \"\",\n        \"description\": \"\"\n      }\n    },\n    {\n      \"column\": \"feature_7\",\n      \"properties\": {\n        \"dtype\": \"number\",\n        \"std\": 46.36642909274063,\n        \"min\": 0.0,\n        \"max\": 1660.8,\n        \"num_unique_values\": 7348,\n        \"samples\": [\n          118.63,\n          88.73\n        ],\n        \"semantic_type\": \"\",\n        \"description\": \"\"\n      }\n    },\n    {\n      \"column\": \"target\",\n      \"properties\": {\n        \"dtype\": \"number\",\n        \"std\": 0,\n        \"min\": 0,\n        \"max\": 1,\n        \"num_unique_values\": 2,\n        \"samples\": [\n          1,\n          0\n        ],\n        \"semantic_type\": \"\",\n        \"description\": \"\"\n      }\n    }\n  ]\n}",
              "type": "dataframe",
              "variable_name": "data"
            },
            "text/html": [
              "\n",
              "  <div id=\"df-ec8a87a8-9fd4-466d-9627-f8e545cb7a1d\" class=\"colab-df-container\">\n",
              "    <div>\n",
              "<style scoped>\n",
              "    .dataframe tbody tr th:only-of-type {\n",
              "        vertical-align: middle;\n",
              "    }\n",
              "\n",
              "    .dataframe tbody tr th {\n",
              "        vertical-align: top;\n",
              "    }\n",
              "\n",
              "    .dataframe thead th {\n",
              "        text-align: right;\n",
              "    }\n",
              "</style>\n",
              "<table border=\"1\" class=\"dataframe\">\n",
              "  <thead>\n",
              "    <tr style=\"text-align: right;\">\n",
              "      <th></th>\n",
              "      <th>feature_1</th>\n",
              "      <th>feature_2</th>\n",
              "      <th>feature_3</th>\n",
              "      <th>feature_4</th>\n",
              "      <th>feature_5</th>\n",
              "      <th>feature_6</th>\n",
              "      <th>feature_7</th>\n",
              "      <th>target</th>\n",
              "    </tr>\n",
              "  </thead>\n",
              "  <tbody>\n",
              "    <tr>\n",
              "      <th>0</th>\n",
              "      <td>27.750000</td>\n",
              "      <td>55.00000</td>\n",
              "      <td>B</td>\n",
              "      <td>875.98</td>\n",
              "      <td>No</td>\n",
              "      <td>8</td>\n",
              "      <td>44.16</td>\n",
              "      <td>0</td>\n",
              "    </tr>\n",
              "    <tr>\n",
              "      <th>1</th>\n",
              "      <td>31.330000</td>\n",
              "      <td>39.00000</td>\n",
              "      <td>C</td>\n",
              "      <td>839.91</td>\n",
              "      <td>No</td>\n",
              "      <td>4</td>\n",
              "      <td>13.93</td>\n",
              "      <td>1</td>\n",
              "    </tr>\n",
              "    <tr>\n",
              "      <th>2</th>\n",
              "      <td>23.870001</td>\n",
              "      <td>10.00000</td>\n",
              "      <td>A</td>\n",
              "      <td>1364.70</td>\n",
              "      <td>Yes</td>\n",
              "      <td>4</td>\n",
              "      <td>15.16</td>\n",
              "      <td>0</td>\n",
              "    </tr>\n",
              "    <tr>\n",
              "      <th>3</th>\n",
              "      <td>35.639999</td>\n",
              "      <td>34.00000</td>\n",
              "      <td>C</td>\n",
              "      <td>1462.07</td>\n",
              "      <td>No</td>\n",
              "      <td>4</td>\n",
              "      <td>15.71</td>\n",
              "      <td>1</td>\n",
              "    </tr>\n",
              "    <tr>\n",
              "      <th>4</th>\n",
              "      <td>29.990843</td>\n",
              "      <td>49.43656</td>\n",
              "      <td>C</td>\n",
              "      <td>710.61</td>\n",
              "      <td>No</td>\n",
              "      <td>8</td>\n",
              "      <td>13.77</td>\n",
              "      <td>1</td>\n",
              "    </tr>\n",
              "  </tbody>\n",
              "</table>\n",
              "</div>\n",
              "    <div class=\"colab-df-buttons\">\n",
              "\n",
              "  <div class=\"colab-df-container\">\n",
              "    <button class=\"colab-df-convert\" onclick=\"convertToInteractive('df-ec8a87a8-9fd4-466d-9627-f8e545cb7a1d')\"\n",
              "            title=\"Convert this dataframe to an interactive table.\"\n",
              "            style=\"display:none;\">\n",
              "\n",
              "  <svg xmlns=\"http://www.w3.org/2000/svg\" height=\"24px\" viewBox=\"0 -960 960 960\">\n",
              "    <path d=\"M120-120v-720h720v720H120Zm60-500h600v-160H180v160Zm220 220h160v-160H400v160Zm0 220h160v-160H400v160ZM180-400h160v-160H180v160Zm440 0h160v-160H620v160ZM180-180h160v-160H180v160Zm440 0h160v-160H620v160Z\"/>\n",
              "  </svg>\n",
              "    </button>\n",
              "\n",
              "  <style>\n",
              "    .colab-df-container {\n",
              "      display:flex;\n",
              "      gap: 12px;\n",
              "    }\n",
              "\n",
              "    .colab-df-convert {\n",
              "      background-color: #E8F0FE;\n",
              "      border: none;\n",
              "      border-radius: 50%;\n",
              "      cursor: pointer;\n",
              "      display: none;\n",
              "      fill: #1967D2;\n",
              "      height: 32px;\n",
              "      padding: 0 0 0 0;\n",
              "      width: 32px;\n",
              "    }\n",
              "\n",
              "    .colab-df-convert:hover {\n",
              "      background-color: #E2EBFA;\n",
              "      box-shadow: 0px 1px 2px rgba(60, 64, 67, 0.3), 0px 1px 3px 1px rgba(60, 64, 67, 0.15);\n",
              "      fill: #174EA6;\n",
              "    }\n",
              "\n",
              "    .colab-df-buttons div {\n",
              "      margin-bottom: 4px;\n",
              "    }\n",
              "\n",
              "    [theme=dark] .colab-df-convert {\n",
              "      background-color: #3B4455;\n",
              "      fill: #D2E3FC;\n",
              "    }\n",
              "\n",
              "    [theme=dark] .colab-df-convert:hover {\n",
              "      background-color: #434B5C;\n",
              "      box-shadow: 0px 1px 3px 1px rgba(0, 0, 0, 0.15);\n",
              "      filter: drop-shadow(0px 1px 2px rgba(0, 0, 0, 0.3));\n",
              "      fill: #FFFFFF;\n",
              "    }\n",
              "  </style>\n",
              "\n",
              "    <script>\n",
              "      const buttonEl =\n",
              "        document.querySelector('#df-ec8a87a8-9fd4-466d-9627-f8e545cb7a1d button.colab-df-convert');\n",
              "      buttonEl.style.display =\n",
              "        google.colab.kernel.accessAllowed ? 'block' : 'none';\n",
              "\n",
              "      async function convertToInteractive(key) {\n",
              "        const element = document.querySelector('#df-ec8a87a8-9fd4-466d-9627-f8e545cb7a1d');\n",
              "        const dataTable =\n",
              "          await google.colab.kernel.invokeFunction('convertToInteractive',\n",
              "                                                    [key], {});\n",
              "        if (!dataTable) return;\n",
              "\n",
              "        const docLinkHtml = 'Like what you see? Visit the ' +\n",
              "          '<a target=\"_blank\" href=https://colab.research.google.com/notebooks/data_table.ipynb>data table notebook</a>'\n",
              "          + ' to learn more about interactive tables.';\n",
              "        element.innerHTML = '';\n",
              "        dataTable['output_type'] = 'display_data';\n",
              "        await google.colab.output.renderOutput(dataTable, element);\n",
              "        const docLink = document.createElement('div');\n",
              "        docLink.innerHTML = docLinkHtml;\n",
              "        element.appendChild(docLink);\n",
              "      }\n",
              "    </script>\n",
              "  </div>\n",
              "\n",
              "\n",
              "    <div id=\"df-f6f57a6c-b87c-4590-8978-314e0ab412ab\">\n",
              "      <button class=\"colab-df-quickchart\" onclick=\"quickchart('df-f6f57a6c-b87c-4590-8978-314e0ab412ab')\"\n",
              "                title=\"Suggest charts\"\n",
              "                style=\"display:none;\">\n",
              "\n",
              "<svg xmlns=\"http://www.w3.org/2000/svg\" height=\"24px\"viewBox=\"0 0 24 24\"\n",
              "     width=\"24px\">\n",
              "    <g>\n",
              "        <path d=\"M19 3H5c-1.1 0-2 .9-2 2v14c0 1.1.9 2 2 2h14c1.1 0 2-.9 2-2V5c0-1.1-.9-2-2-2zM9 17H7v-7h2v7zm4 0h-2V7h2v10zm4 0h-2v-4h2v4z\"/>\n",
              "    </g>\n",
              "</svg>\n",
              "      </button>\n",
              "\n",
              "<style>\n",
              "  .colab-df-quickchart {\n",
              "      --bg-color: #E8F0FE;\n",
              "      --fill-color: #1967D2;\n",
              "      --hover-bg-color: #E2EBFA;\n",
              "      --hover-fill-color: #174EA6;\n",
              "      --disabled-fill-color: #AAA;\n",
              "      --disabled-bg-color: #DDD;\n",
              "  }\n",
              "\n",
              "  [theme=dark] .colab-df-quickchart {\n",
              "      --bg-color: #3B4455;\n",
              "      --fill-color: #D2E3FC;\n",
              "      --hover-bg-color: #434B5C;\n",
              "      --hover-fill-color: #FFFFFF;\n",
              "      --disabled-bg-color: #3B4455;\n",
              "      --disabled-fill-color: #666;\n",
              "  }\n",
              "\n",
              "  .colab-df-quickchart {\n",
              "    background-color: var(--bg-color);\n",
              "    border: none;\n",
              "    border-radius: 50%;\n",
              "    cursor: pointer;\n",
              "    display: none;\n",
              "    fill: var(--fill-color);\n",
              "    height: 32px;\n",
              "    padding: 0;\n",
              "    width: 32px;\n",
              "  }\n",
              "\n",
              "  .colab-df-quickchart:hover {\n",
              "    background-color: var(--hover-bg-color);\n",
              "    box-shadow: 0 1px 2px rgba(60, 64, 67, 0.3), 0 1px 3px 1px rgba(60, 64, 67, 0.15);\n",
              "    fill: var(--button-hover-fill-color);\n",
              "  }\n",
              "\n",
              "  .colab-df-quickchart-complete:disabled,\n",
              "  .colab-df-quickchart-complete:disabled:hover {\n",
              "    background-color: var(--disabled-bg-color);\n",
              "    fill: var(--disabled-fill-color);\n",
              "    box-shadow: none;\n",
              "  }\n",
              "\n",
              "  .colab-df-spinner {\n",
              "    border: 2px solid var(--fill-color);\n",
              "    border-color: transparent;\n",
              "    border-bottom-color: var(--fill-color);\n",
              "    animation:\n",
              "      spin 1s steps(1) infinite;\n",
              "  }\n",
              "\n",
              "  @keyframes spin {\n",
              "    0% {\n",
              "      border-color: transparent;\n",
              "      border-bottom-color: var(--fill-color);\n",
              "      border-left-color: var(--fill-color);\n",
              "    }\n",
              "    20% {\n",
              "      border-color: transparent;\n",
              "      border-left-color: var(--fill-color);\n",
              "      border-top-color: var(--fill-color);\n",
              "    }\n",
              "    30% {\n",
              "      border-color: transparent;\n",
              "      border-left-color: var(--fill-color);\n",
              "      border-top-color: var(--fill-color);\n",
              "      border-right-color: var(--fill-color);\n",
              "    }\n",
              "    40% {\n",
              "      border-color: transparent;\n",
              "      border-right-color: var(--fill-color);\n",
              "      border-top-color: var(--fill-color);\n",
              "    }\n",
              "    60% {\n",
              "      border-color: transparent;\n",
              "      border-right-color: var(--fill-color);\n",
              "    }\n",
              "    80% {\n",
              "      border-color: transparent;\n",
              "      border-right-color: var(--fill-color);\n",
              "      border-bottom-color: var(--fill-color);\n",
              "    }\n",
              "    90% {\n",
              "      border-color: transparent;\n",
              "      border-bottom-color: var(--fill-color);\n",
              "    }\n",
              "  }\n",
              "</style>\n",
              "\n",
              "      <script>\n",
              "        async function quickchart(key) {\n",
              "          const quickchartButtonEl =\n",
              "            document.querySelector('#' + key + ' button');\n",
              "          quickchartButtonEl.disabled = true;  // To prevent multiple clicks.\n",
              "          quickchartButtonEl.classList.add('colab-df-spinner');\n",
              "          try {\n",
              "            const charts = await google.colab.kernel.invokeFunction(\n",
              "                'suggestCharts', [key], {});\n",
              "          } catch (error) {\n",
              "            console.error('Error during call to suggestCharts:', error);\n",
              "          }\n",
              "          quickchartButtonEl.classList.remove('colab-df-spinner');\n",
              "          quickchartButtonEl.classList.add('colab-df-quickchart-complete');\n",
              "        }\n",
              "        (() => {\n",
              "          let quickchartButtonEl =\n",
              "            document.querySelector('#df-f6f57a6c-b87c-4590-8978-314e0ab412ab button');\n",
              "          quickchartButtonEl.style.display =\n",
              "            google.colab.kernel.accessAllowed ? 'block' : 'none';\n",
              "        })();\n",
              "      </script>\n",
              "    </div>\n",
              "\n",
              "    </div>\n",
              "  </div>\n"
            ],
            "text/plain": [
              "   feature_1  feature_2 feature_3  feature_4 feature_5  feature_6  feature_7  \\\n",
              "0  27.750000   55.00000         B     875.98        No          8      44.16   \n",
              "1  31.330000   39.00000         C     839.91        No          4      13.93   \n",
              "2  23.870001   10.00000         A    1364.70       Yes          4      15.16   \n",
              "3  35.639999   34.00000         C    1462.07        No          4      15.71   \n",
              "4  29.990843   49.43656         C     710.61        No          8      13.77   \n",
              "\n",
              "   target  \n",
              "0       0  \n",
              "1       1  \n",
              "2       0  \n",
              "3       1  \n",
              "4       1  "
            ]
          },
          "execution_count": 2,
          "metadata": {},
          "output_type": "execute_result"
        }
      ],
      "source": [
        "ganda_data = pd.read_csv('Preprocessed.csv')\n",
        "ganda_data.head()"
      ]
    },
    {
      "cell_type": "markdown",
      "metadata": {
        "id": "MXfrrE2VtFkQ"
      },
      "source": [
        "**Encoding**"
      ]
    },
    {
      "cell_type": "code",
      "execution_count": null,
      "metadata": {
        "id": "q2_RSQQftE79"
      },
      "outputs": [],
      "source": [
        "X = ganda_data[['feature_4', 'feature_5', 'feature_6', 'feature_7']].copy()\n",
        "y = ganda_data['target']\n",
        "\n",
        "X['feature_5'] = X['feature_5'].str.lower().map({'yes': 1, 'no': 0})"
      ]
    },
    {
      "cell_type": "markdown",
      "metadata": {
        "id": "ENUONFO0tKRf"
      },
      "source": [
        "**Train/Test Split**"
      ]
    },
    {
      "cell_type": "code",
      "execution_count": null,
      "metadata": {
        "id": "7PF6GE-0tMgx"
      },
      "outputs": [],
      "source": [
        "X_train, X_test, y_train, y_test = train_test_split(\n",
        "    X, y, test_size=0.2, stratify=y, random_state=42\n",
        ")"
      ]
    },
    {
      "cell_type": "code",
      "execution_count": null,
      "metadata": {
        "colab": {
          "base_uri": "https://localhost:8080/"
        },
        "id": "z6d-8LbytNiT",
        "outputId": "7c39d6c5-20ac-40ea-9b6f-1d0ea8c95991"
      },
      "outputs": [
        {
          "name": "stdout",
          "output_type": "stream",
          "text": [
            "      Shape:  (41000, 4)\n",
            "\n",
            "Train Shape:  (32800, 4)\n",
            " Test Shape:  (8200, 4)\n"
          ]
        }
      ],
      "source": [
        "print(\"      Shape: \", X.shape)\n",
        "print(\"\\nTrain Shape: \", X_train.shape)\n",
        "print(\" Test Shape: \", X_test.shape)"
      ]
    },
    {
      "cell_type": "markdown",
      "metadata": {
        "id": "edq6C3uLthCJ"
      },
      "source": [
        "**Scaling**"
      ]
    },
    {
      "cell_type": "code",
      "execution_count": null,
      "metadata": {
        "id": "v_qMzH-stgKw"
      },
      "outputs": [],
      "source": [
        "scaler = StandardScaler()\n",
        "X_train_scaled = scaler.fit_transform(X_train)\n",
        "X_test_scaled = scaler.transform(X_test)"
      ]
    },
    {
      "cell_type": "markdown",
      "metadata": {
        "id": "2aQQ87B4tT7R"
      },
      "source": [
        "**Class Imbalance**"
      ]
    },
    {
      "cell_type": "code",
      "execution_count": null,
      "metadata": {
        "id": "8_fwhJqStW5H"
      },
      "outputs": [],
      "source": [
        "smote = SMOTE(sampling_strategy='auto', random_state=42)\n",
        "X_train_resampled, y_train_resampled = smote.fit_resample(X_train_scaled, y_train)"
      ]
    },
    {
      "cell_type": "code",
      "execution_count": null,
      "metadata": {
        "colab": {
          "base_uri": "https://localhost:8080/",
          "height": 607
        },
        "id": "vpS4xf4_tZAw",
        "outputId": "22022967-a026-49cb-b7fa-c41820ebbfa1"
      },
      "outputs": [
        {
          "data": {
            "image/png": "[encoded data removed]",
            "text/plain": [
              "<Figure size 1200x600 with 2 Axes>"
            ]
          },
          "metadata": {},
          "output_type": "display_data"
        }
      ],
      "source": [
        "class_counts_before = y_train.value_counts().sort_index()\n",
        "class_counts_after = y_train_resampled.value_counts().sort_index()\n",
        "\n",
        "plt.figure(figsize=(12, 6))\n",
        "\n",
        "plt.subplot(1, 2, 1)\n",
        "sns.barplot(x=class_counts_before.index, y=class_counts_before.values, hue=class_counts_before.index, palette='Set2', legend=False)\n",
        "plt.title('Class Distribution Before SMOTE (Training Data)')\n",
        "plt.xlabel('Class')\n",
        "plt.ylabel('Number of Samples')\n",
        "plt.xticks([0, 1], ['Class 0', 'Class 1'])\n",
        "plt.grid(axis='y', linestyle='--', alpha=0.7)\n",
        "\n",
        "plt.subplot(1, 2, 2)\n",
        "sns.barplot(x=class_counts_after.index, y=class_counts_after.values, hue=class_counts_after.index, palette='Set2', legend=False)\n",
        "plt.title('Class Distribution After SMOTE')\n",
        "plt.xlabel('Class')\n",
        "plt.ylabel('Number of Samples')\n",
        "plt.xticks([0, 1], ['Class 0', 'Class 1'])\n",
        "plt.grid(axis='y', linestyle='--', alpha=0.7)\n",
        "\n",
        "plt.tight_layout()\n",
        "plt.show()"
      ]
    },
    {
      "cell_type": "markdown",
      "metadata": {
        "id": "0Wky8dCTZa4q"
      },
      "source": [
        "**Exploring the Data**"
      ]
    },
    {
      "cell_type": "code",
      "execution_count": null,
      "metadata": {
        "colab": {
          "base_uri": "https://localhost:8080/",
          "height": 545
        },
        "id": "6hwJA6QUteBv",
        "outputId": "d666e92f-72dc-45e4-b800-46e937e05e7b"
      },
      "outputs": [
        {
          "data": {
            "image/png": "[encoded data removed]",
            "text/plain": [
              "<Figure size 1000x600 with 2 Axes>"
            ]
          },
          "metadata": {},
          "output_type": "display_data"
        }
      ],
      "source": [
        "corr_matrix = ganda_data.corr(numeric_only=True)\n",
        "plt.figure(figsize=(10, 6))\n",
        "sns.heatmap(corr_matrix, annot=True, fmt=\".2f\", cmap='coolwarm')\n",
        "plt.title(\"Correlation Matrix\")\n",
        "plt.show()"
      ]
    },
    {
      "cell_type": "markdown",
      "metadata": {
        "id": "ZxB0O8PPZqQc"
      },
      "source": [
        "There are no linear relationship between variables."
      ]
    },
    {
      "cell_type": "code",
      "execution_count": null,
      "metadata": {
        "colab": {
          "base_uri": "https://localhost:8080/",
          "height": 507
        },
        "id": "ZtvZWYtaaKge",
        "outputId": "abbadae6-a715-45d1-81c3-5281a321bb96"
      },
      "outputs": [
        {
          "data": {
            "image/png": "[encoded data removed]",
            "text/plain": [
              "<Figure size 800x500 with 1 Axes>"
            ]
          },
          "metadata": {},
          "output_type": "display_data"
        }
      ],
      "source": [
        "label_enc = LabelEncoder()\n",
        "ganda_data['feature_3'] = label_enc.fit_transform(ganda_data['feature_3'])\n",
        "ganda_data['feature_5'] = ganda_data['feature_5'].str.lower().map({'yes': 1, 'no': 0})\n",
        "X = ganda_data.drop(columns='target')\n",
        "y = ganda_data['target']\n",
        "\n",
        "mi_scores = mutual_info_classif(X, y, random_state=0)\n",
        "mi_df = pd.Series(mi_scores, index=X.columns).sort_values(ascending=True)\n",
        "\n",
        "plt.figure(figsize=(8, 5))\n",
        "mi_df.plot(kind='barh')\n",
        "plt.title('Mutual Information Scores')\n",
        "plt.xlabel('Score')\n",
        "plt.ylabel('Feature')\n",
        "plt.tight_layout()\n",
        "plt.show()"
      ]
    },
    {
      "cell_type": "markdown",
      "metadata": {
        "id": "zd8199741Hh7"
      },
      "source": [
        "# Model Training - CPU"
      ]
    },
    {
      "cell_type": "code",
      "execution_count": null,
      "metadata": {
        "colab": {
          "base_uri": "https://localhost:8080/"
        },
        "id": "WRIa5gl6vi7N",
        "outputId": "29536d22-0a66-44cf-a2e7-bd03f83b7617"
      },
      "outputs": [
        {
          "name": "stdout",
          "output_type": "stream",
          "text": [
            "Time Taken by CPU: 30.13 seconds\n",
            "\n",
            "    AUC : 0.7234\n",
            "Accuracy: 0.6753\n",
            "\n",
            "Classification Report\n",
            "              precision    recall  f1-score   support\n",
            "\n",
            "           0       0.74      0.70      0.72     19746\n",
            "           1       0.58      0.64      0.61     13054\n",
            "\n",
            "    accuracy                           0.68     32800\n",
            "   macro avg       0.66      0.67      0.67     32800\n",
            "weighted avg       0.68      0.68      0.68     32800\n",
            "\n"
          ]
        }
      ],
      "source": [
        "start_time = time.time()\n",
        "\n",
        "base_lgbm = lgb.LGBMClassifier(class_weight='balanced', random_state=42)\n",
        "bagging_clf = BaggingClassifier(\n",
        "    estimator=base_lgbm,\n",
        "    n_estimators=50,\n",
        "    max_samples=0.8,\n",
        "    max_features=1.0,\n",
        "    bootstrap=True,\n",
        "    n_jobs=-1,\n",
        "    random_state=42\n",
        ")\n",
        "\n",
        "bagging_clf.fit(X_train_resampled, y_train_resampled)\n",
        "\n",
        "y_train_pred = bagging_clf.predict(X_train_scaled)\n",
        "y_train_proba = bagging_clf.predict_proba(X_train_scaled)[:, 1]\n",
        "y_test_pred = bagging_clf.predict(X_test_scaled)\n",
        "y_test_proba = bagging_clf.predict_proba(X_test_scaled)[:, 1]\n",
        "\n",
        "end_time = time.time()\n",
        "\n",
        "train_acc = accuracy_score(y_train, y_train_pred)\n",
        "test_acc = accuracy_score(y_test, y_test_pred)\n",
        "train_auc = roc_auc_score(y_train, y_train_proba)\n",
        "test_auc = roc_auc_score(y_test, y_test_proba)\n",
        "cm = confusion_matrix(y_train, y_train_pred)\n",
        "report = classification_report(y_train, y_train_pred)\n",
        "cpu_time = end_time - start_time\n",
        "\n",
        "print(\"Time Taken by CPU: {:.2f} seconds\".format(cpu_time))\n",
        "print(f\"\\n    AUC : {train_auc:.4f}\")\n",
        "print(f\"Accuracy: {train_acc:.4f}\")\n",
        "\n",
        "print(\"\\nClassification Report\")\n",
        "print(report)"
      ]
    },
    {
      "cell_type": "markdown",
      "metadata": {
        "id": "TVseaLD2fdoU"
      },
      "source": [
        "# Model Training - GPU"
      ]
    },
    {
      "cell_type": "code",
      "execution_count": null,
      "metadata": {
        "colab": {
          "base_uri": "https://localhost:8080/"
        },
        "id": "YG_75J-xBLVH",
        "outputId": "283b844d-10d1-43d0-d4f0-1be281f865ec"
      },
      "outputs": [
        {
          "name": "stdout",
          "output_type": "stream",
          "text": [
            "Time Taken by GPU: 0.39 seconds\n",
            "\n",
            "    AUC : 0.7594\n",
            "Accuracy: 0.6859\n",
            "\n",
            "Classification Report\n",
            "              precision    recall  f1-score   support\n",
            "\n",
            "           0       0.69      0.67      0.68     19746\n",
            "           1       0.68      0.70      0.69     19746\n",
            "\n",
            "    accuracy                           0.69     39492\n",
            "   macro avg       0.69      0.69      0.69     39492\n",
            "weighted avg       0.69      0.69      0.69     39492\n",
            "\n"
          ]
        }
      ],
      "source": [
        "X_train_cudf = cudf.DataFrame.from_pandas(pd.DataFrame(X_train_resampled)).reset_index(drop=True)\n",
        "y_train_cudf = cudf.Series(y_train_resampled).reset_index(drop=True)\n",
        "X_test_cudf = cudf.DataFrame.from_pandas(pd.DataFrame(X_test_scaled)).reset_index(drop=True)\n",
        "y_test_cudf = cudf.Series(y_test).reset_index(drop=True)\n",
        "\n",
        "X_train_cupy = X_train_cudf.to_cupy()\n",
        "y_train_cupy = y_train_cudf.to_cupy()\n",
        "X_test_cupy = X_test_cudf.to_cupy()\n",
        "y_test_cupy = y_test_cudf.to_cupy()\n",
        "\n",
        "start_time = time.time()\n",
        "\n",
        "rf_clf = RandomForestClassifier(\n",
        "    n_estimators=50,\n",
        "    max_depth=10,\n",
        "    max_features=1.0,\n",
        "    random_state=42,\n",
        "    n_streams=1\n",
        ")\n",
        "\n",
        "rf_clf.fit(X_train_cudf, y_train_cudf)\n",
        "\n",
        "y_train_pred = rf_clf.predict(X_train_cudf)\n",
        "y_train_proba = cp.asarray(rf_clf.predict_proba(X_train_cupy))[:, 1]\n",
        "y_test_pred = rf_clf.predict(X_test_cudf)\n",
        "y_test_proba = cp.asarray(rf_clf.predict_proba(X_test_cupy))[:, 1]\n",
        "\n",
        "end_time = time.time()\n",
        "\n",
        "train_acc = cu_accuracy_score(y_train_cudf, y_train_pred)\n",
        "test_acc = cu_accuracy_score(y_test_cudf, y_test_pred)\n",
        "train_auc = cu_roc_auc_score(y_train_cupy, y_train_proba)\n",
        "test_auc = cu_roc_auc_score(y_test_cupy, y_test_proba)\n",
        "gpu_time = end_time - start_time\n",
        "\n",
        "y_train_true_np = y_train_cudf.to_numpy()\n",
        "y_train_pred_np = y_train_pred.to_numpy()\n",
        "\n",
        "report = classification_report(y_train_true_np, y_train_pred_np)\n",
        "\n",
        "print(\"Time Taken by GPU: {:.2f} seconds\".format(gpu_time))\n",
        "print(f\"\\n    AUC : {train_auc:.4f}\")\n",
        "print(f\"Accuracy: {train_acc:.4f}\")\n",
        "\n",
        "print(\"\\nClassification Report\")\n",
        "print(report)"
      ]
    },
    {
      "cell_type": "code",
      "execution_count": null,
      "metadata": {
        "colab": {
          "base_uri": "https://localhost:8080/"
        },
        "id": "N4-N5wnbDDNQ",
        "outputId": "6f7c9aef-5974-4cb9-8ad2-0e8e33a28ce8"
      },
      "outputs": [
        {
          "name": "stdout",
          "output_type": "stream",
          "text": [
            "CPU Time: 30.13 seconds\n",
            "GPU Time: 0.39 seconds\n",
            "\n",
            "GPU is 98.7% faster than CPU\n"
          ]
        }
      ],
      "source": [
        "print(f\"CPU Time: {cpu_time:.2f} seconds\")\n",
        "print(f\"GPU Time: {gpu_time:.2f} seconds\")\n",
        "\n",
        "percent_faster = ((cpu_time - gpu_time) / cpu_time) * 100\n",
        "print(f\"\\nGPU is {percent_faster:.1f}% faster than CPU\")"
      ]
    }
  ],
  "metadata": {
    "accelerator": "GPU",
    "colab": {
      "gpuType": "T4",
      "provenance": []
    },
    "kernelspec": {
      "display_name": "Python 3",
      "name": "python3"
    },
    "language_info": {
      "name": "python"
    }
  },
  "nbformat": 4,
  "nbformat_minor": 0
}
